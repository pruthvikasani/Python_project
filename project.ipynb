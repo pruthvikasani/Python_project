{
 "cells": [
  {
   "cell_type": "code",
   "execution_count": 3,
   "metadata": {
    "id": "xxNDV02v18n_"
   },
   "outputs": [],
   "source": [
    "#Load the required modules\n",
    "import numpy\n",
    "from keras.datasets import cifar10\n",
    "from keras.models import Sequential\n",
    "from keras.layers import Dense, Flatten, Dropout, Input, BatchNormalization\n",
    "from keras.constraints import maxnorm\n",
    "from keras.models import Model\n",
    "from keras.optimizers import *\n",
    "from keras.layers.convolutional import Conv2D, MaxPooling2D\n",
    "from keras.utils import np_utils\n",
    "from keras import backend as K\n",
    "import tensorflow as tf"
   ]
  },
  {
   "cell_type": "code",
   "execution_count": 4,
   "metadata": {
    "colab": {
     "base_uri": "https://localhost:8080/"
    },
    "id": "TnL9fkDp2K82",
    "outputId": "778b9e62-fb1b-4d1e-dff0-2cec0db6f4ec"
   },
   "outputs": [
    {
     "name": "stdout",
     "output_type": "stream",
     "text": [
      "Downloading data from https://www.cs.toronto.edu/~kriz/cifar-10-python.tar.gz\n",
      "170500096/170498071 [==============================] - 2s 0us/step\n",
      "170508288/170498071 [==============================] - 2s 0us/step\n"
     ]
    }
   ],
   "source": [
    "#Load the dataset\n",
    "(X_train, y_train), (X_test, y_test) = cifar10.load_data()"
   ]
  },
  {
   "cell_type": "code",
   "execution_count": 5,
   "metadata": {
    "id": "8pQ7kbrO2UoC"
   },
   "outputs": [],
   "source": [
    "#Normalize the inputs for better performance from the rang eof 0 to 1\n",
    "X_train = X_train.astype('float32')\n",
    "X_test = X_test.astype('float32')\n",
    "X_train = X_train / 255.0\n",
    "X_test = X_test / 255.0"
   ]
  },
  {
   "cell_type": "code",
   "execution_count": 6,
   "metadata": {
    "id": "5YifMJ6u2aIY"
   },
   "outputs": [],
   "source": [
    "#One hot encoding as we are going to use categorical entropy as loss function\n",
    "y_train = np_utils.to_categorical(y_train)\n",
    "y_test = np_utils.to_categorical(y_test)\n",
    "num_classes = y_test.shape[1]"
   ]
  },
  {
   "cell_type": "markdown",
   "metadata": {
    "id": "VxAaFCkHvgj1"
   },
   "source": [
    "**Sequential Model**"
   ]
  },
  {
   "cell_type": "code",
   "execution_count": 7,
   "metadata": {
    "id": "rdcESCE7cmzT"
   },
   "outputs": [],
   "source": [
    "#create the sequential model and add the required Conv2D,Dropout,MaxPooling2D,Dense and Flatten layers\n",
    "model = Sequential()\n",
    "model.add(Conv2D(32, (3, 3), input_shape=(32,32, 3), padding='same', activation='relu'))\n",
    "model.add(Dropout(0.2))\n",
    "model.add(Conv2D(32, (3, 3), activation='relu', padding='same'))\n",
    "model.add(MaxPooling2D(pool_size=(2, 2)))\n",
    "model.add(Conv2D(64, (3, 3), activation='relu', padding='same'))\n",
    "model.add(Dropout(0.2))\n",
    "model.add(Conv2D(64, (3, 3), activation='relu', padding='same'))\n",
    "model.add(MaxPooling2D(pool_size=(2, 2)))\n",
    "model.add(Conv2D(128, (3, 3), activation='relu', padding='same'))\n",
    "model.add(Dropout(0.2))\n",
    "model.add(Conv2D(128, (3, 3), activation='relu', padding='same'))\n",
    "model.add(MaxPooling2D(pool_size=(2, 2)))\n",
    "model.add(Flatten())\n",
    "model.add(Dropout(0.2))\n",
    "model.add(Dense(1024, activation='relu'))\n",
    "model.add(Dropout(0.2))\n",
    "model.add(Dense(512, activation='relu'))\n",
    "model.add(Dropout(0.2))\n",
    "model.add(Dense(num_classes, activation='softmax'))"
   ]
  },
  {
   "cell_type": "code",
   "execution_count": 12,
   "metadata": {
    "id": "WDf7GKmLdACW"
   },
   "outputs": [],
   "source": [
    "#Compile the model using categorical cross entropy and optimizer as adam and metrics as accuracy \n",
    "epochs = 5\n",
    "lrate = 0.001\n",
    "adam = tf.keras.optimizers.Adam(learning_rate=lrate)\n",
    "model.compile(loss='categorical_crossentropy', optimizer=adam, metrics=['accuracy'])"
   ]
  },
  {
   "cell_type": "code",
   "execution_count": 13,
   "metadata": {
    "colab": {
     "base_uri": "https://localhost:8080/"
    },
    "id": "JvV5pVP8dHLt",
    "outputId": "3bb49dd8-0bc8-4d9a-c3b4-7308bd2550a5"
   },
   "outputs": [
    {
     "name": "stdout",
     "output_type": "stream",
     "text": [
      "<bound method Model.summary of <keras.engine.sequential.Sequential object at 0x7f299568e7d0>>\n"
     ]
    }
   ],
   "source": [
    "#print model summary\n",
    "print(model.summary)"
   ]
  },
  {
   "cell_type": "code",
   "execution_count": 15,
   "metadata": {
    "colab": {
     "base_uri": "https://localhost:8080/"
    },
    "id": "45mlqVA3d7jG",
    "outputId": "6afba9a1-b171-49b9-bc9b-5525cceac066"
   },
   "outputs": [
    {
     "name": "stdout",
     "output_type": "stream",
     "text": [
      "Epoch 1/5\n",
      "391/391 [==============================] - 389s 993ms/step - loss: 1.4432 - accuracy: 0.4742 - val_loss: 1.2472 - val_accuracy: 0.5518\n",
      "Epoch 2/5\n",
      "391/391 [==============================] - 391s 999ms/step - loss: 1.1529 - accuracy: 0.5886 - val_loss: 1.0283 - val_accuracy: 0.6398\n",
      "Epoch 3/5\n",
      "391/391 [==============================] - 390s 997ms/step - loss: 0.9705 - accuracy: 0.6545 - val_loss: 0.8748 - val_accuracy: 0.6941\n",
      "Epoch 4/5\n",
      "391/391 [==============================] - 391s 1s/step - loss: 0.8391 - accuracy: 0.7031 - val_loss: 0.8038 - val_accuracy: 0.7195\n",
      "Epoch 5/5\n",
      "391/391 [==============================] - 391s 1s/step - loss: 0.7474 - accuracy: 0.7386 - val_loss: 0.7177 - val_accuracy: 0.7495\n"
     ]
    },
    {
     "data": {
      "text/plain": [
       "<keras.callbacks.History at 0x7f2987c980d0>"
      ]
     },
     "execution_count": 15,
     "metadata": {},
     "output_type": "execute_result"
    }
   ],
   "source": [
    "#fit the model\n",
    "model.fit(X_train, y_train, validation_data=(X_test, y_test), epochs=epochs, batch_size=128, verbose=1)"
   ]
  },
  {
   "cell_type": "code",
   "execution_count": 16,
   "metadata": {
    "colab": {
     "base_uri": "https://localhost:8080/"
    },
    "id": "N333q0qLmZRO",
    "outputId": "646862ea-9086-4dfa-92a2-0039d563ebc2"
   },
   "outputs": [
    {
     "name": "stdout",
     "output_type": "stream",
     "text": [
      "Accuracy: 74.95%\n"
     ]
    }
   ],
   "source": [
    "#Print the accuracy by evaluating the model \n",
    "scores = model.evaluate(X_test, y_test, verbose=0)\n",
    "print(\"Accuracy: %.2f%%\" % (scores[1]*100))"
   ]
  },
  {
   "cell_type": "markdown",
   "metadata": {
    "id": "acl8Extcv1h6"
   },
   "source": [
    "**Accuracy of sequential model is 74%**"
   ]
  },
  {
   "cell_type": "markdown",
   "metadata": {
    "id": "mC_hwIR-vrIm"
   },
   "source": [
    "**Functional API**"
   ]
  },
  {
   "cell_type": "code",
   "execution_count": 17,
   "metadata": {
    "colab": {
     "base_uri": "https://localhost:8080/"
    },
    "id": "Om8VBeARmqMs",
    "outputId": "11308998-3d69-4efe-b215-513a39945289"
   },
   "outputs": [
    {
     "name": "stdout",
     "output_type": "stream",
     "text": [
      "Model: \"model\"\n",
      "_________________________________________________________________\n",
      " Layer (type)                Output Shape              Param #   \n",
      "=================================================================\n",
      " input_1 (InputLayer)        [(None, 32, 32, 3)]       0         \n",
      "                                                                 \n",
      " conv2d_6 (Conv2D)           (None, 32, 32, 32)        896       \n",
      "                                                                 \n",
      " dropout_6 (Dropout)         (None, 32, 32, 32)        0         \n",
      "                                                                 \n",
      " conv2d_7 (Conv2D)           (None, 32, 32, 32)        9248      \n",
      "                                                                 \n",
      " max_pooling2d_3 (MaxPooling  (None, 16, 16, 32)       0         \n",
      " 2D)                                                             \n",
      "                                                                 \n",
      " conv2d_8 (Conv2D)           (None, 16, 16, 64)        18496     \n",
      "                                                                 \n",
      " dropout_7 (Dropout)         (None, 16, 16, 64)        0         \n",
      "                                                                 \n",
      " conv2d_9 (Conv2D)           (None, 16, 16, 64)        36928     \n",
      "                                                                 \n",
      " max_pooling2d_4 (MaxPooling  (None, 8, 8, 64)         0         \n",
      " 2D)                                                             \n",
      "                                                                 \n",
      " conv2d_10 (Conv2D)          (None, 8, 8, 128)         73856     \n",
      "                                                                 \n",
      " dropout_8 (Dropout)         (None, 8, 8, 128)         0         \n",
      "                                                                 \n",
      " conv2d_11 (Conv2D)          (None, 8, 8, 128)         147584    \n",
      "                                                                 \n",
      " max_pooling2d_5 (MaxPooling  (None, 4, 4, 128)        0         \n",
      " 2D)                                                             \n",
      "                                                                 \n",
      " flatten_1 (Flatten)         (None, 2048)              0         \n",
      "                                                                 \n",
      " dense_3 (Dense)             (None, 1024)              2098176   \n",
      "                                                                 \n",
      " dropout_9 (Dropout)         (None, 1024)              0         \n",
      "                                                                 \n",
      " dense_4 (Dense)             (None, 512)               524800    \n",
      "                                                                 \n",
      " dropout_10 (Dropout)        (None, 512)               0         \n",
      "                                                                 \n",
      " dense_5 (Dense)             (None, 10)                5130      \n",
      "                                                                 \n",
      "=================================================================\n",
      "Total params: 2,915,114\n",
      "Trainable params: 2,915,114\n",
      "Non-trainable params: 0\n",
      "_________________________________________________________________\n"
     ]
    }
   ],
   "source": [
    "#create the Input layer and required Conv2D,Dropout,MaxPooling2D,Dense and Flatten layers\n",
    "input = Input(shape = X_train[0].shape)\n",
    "conv1 = Conv2D(32, (3,3), padding=\"same\", activation=\"relu\")(input)\n",
    "dropout1 = Dropout(0.2)(conv1)\n",
    "conv2 = Conv2D(32, (3,3), activation=\"relu\", padding=\"same\",)(dropout1)\n",
    "maxpool1 = MaxPooling2D(pool_size=(2,2))(conv2)\n",
    "conv3 = Conv2D(64, (3,3), padding=\"same\", activation=\"relu\")(maxpool1)\n",
    "dropout2 = Dropout(0.2)(conv3)\n",
    "conv4 = Conv2D(64, (3,3), padding=\"same\", activation=\"relu\")(dropout2)\n",
    "maxpool2 = MaxPooling2D(pool_size=(2,2))(conv4)\n",
    "conv5 = Conv2D(128, (3,3), padding=\"same\", activation=\"relu\")(maxpool2)\n",
    "dropout3 = Dropout(0.2)(conv5)\n",
    "conv6 = Conv2D(128, (3,3), padding=\"same\", activation=\"relu\")(dropout3)\n",
    "maxpool3 = MaxPooling2D(pool_size=(2,2))(conv6)\n",
    "flatten1 = Flatten()(maxpool3)\n",
    "dense1 = Dense(1024, activation=\"relu\")(flatten1)\n",
    "flatten2 = Dropout(0.2)(dense1)\n",
    "dense2 = Dense(512, activation=\"relu\")(flatten2)\n",
    "dropout4 = Dropout(0.2)(dense2)\n",
    "output = Dense(num_classes, activation=\"softmax\")(dropout4)\n",
    "model = Model(input, output)\n",
    "model.summary()"
   ]
  },
  {
   "cell_type": "code",
   "execution_count": 20,
   "metadata": {
    "id": "d-emsfZVmxy4"
   },
   "outputs": [],
   "source": [
    "#compile the model\n",
    "epochs = 5\n",
    "lrate = 0.001\n",
    "adam = tf.keras.optimizers.Adam(learning_rate=lrate)\n",
    "model.compile(loss='categorical_crossentropy', optimizer=adam, metrics=['accuracy'])"
   ]
  },
  {
   "cell_type": "code",
   "execution_count": 21,
   "metadata": {
    "colab": {
     "base_uri": "https://localhost:8080/"
    },
    "id": "McvUDTVGm3Jk",
    "outputId": "ce4766c0-2271-4ac4-d076-ff4cdedea496"
   },
   "outputs": [
    {
     "name": "stdout",
     "output_type": "stream",
     "text": [
      "<bound method Model.summary of <keras.engine.functional.Functional object at 0x7f2987c6f590>>\n"
     ]
    }
   ],
   "source": [
    "#print the model summary\n",
    "print(model.summary)"
   ]
  },
  {
   "cell_type": "code",
   "execution_count": 22,
   "metadata": {
    "colab": {
     "base_uri": "https://localhost:8080/"
    },
    "id": "ydVnXqKgm9Xv",
    "outputId": "cc57b36f-c9d6-4366-a56b-f31fdb591ade"
   },
   "outputs": [
    {
     "name": "stdout",
     "output_type": "stream",
     "text": [
      "Epoch 1/5\n",
      "391/391 [==============================] - 382s 974ms/step - loss: 1.6771 - accuracy: 0.3766 - val_loss: 1.3454 - val_accuracy: 0.5241\n",
      "Epoch 2/5\n",
      "391/391 [==============================] - 387s 991ms/step - loss: 1.1859 - accuracy: 0.5740 - val_loss: 1.0134 - val_accuracy: 0.6426\n",
      "Epoch 3/5\n",
      "391/391 [==============================] - 390s 997ms/step - loss: 0.9510 - accuracy: 0.6607 - val_loss: 0.9529 - val_accuracy: 0.6663\n",
      "Epoch 4/5\n",
      "391/391 [==============================] - 387s 990ms/step - loss: 0.8138 - accuracy: 0.7153 - val_loss: 0.8053 - val_accuracy: 0.7153\n",
      "Epoch 5/5\n",
      "391/391 [==============================] - 387s 990ms/step - loss: 0.7028 - accuracy: 0.7529 - val_loss: 0.7815 - val_accuracy: 0.7307\n"
     ]
    },
    {
     "data": {
      "text/plain": [
       "<keras.callbacks.History at 0x7f2987b9e690>"
      ]
     },
     "execution_count": 22,
     "metadata": {},
     "output_type": "execute_result"
    }
   ],
   "source": [
    "#fit the model\n",
    "model.fit(X_train, y_train, validation_data=(X_test, y_test), epochs=epochs, batch_size=128, verbose=1)"
   ]
  },
  {
   "cell_type": "code",
   "execution_count": 23,
   "metadata": {
    "colab": {
     "base_uri": "https://localhost:8080/"
    },
    "id": "gs4GUzfquzIE",
    "outputId": "ff3e5463-70db-4af6-cf5b-9825820b29a9"
   },
   "outputs": [
    {
     "name": "stdout",
     "output_type": "stream",
     "text": [
      "Accuracy: 73.07%\n"
     ]
    }
   ],
   "source": [
    "#print the accuracy of the model\n",
    "scores = model.evaluate(X_test, y_test, verbose=0)\n",
    "print(\"Accuracy: %.2f%%\" % (scores[1]*100))"
   ]
  },
  {
   "cell_type": "markdown",
   "metadata": {
    "id": "2aGgvGVQwEDK"
   },
   "source": [
    "**Accuracy of functional model is 73%**"
   ]
  }
 ],
 "metadata": {
  "colab": {
   "name": "project",
   "provenance": []
  },
  "kernelspec": {
   "display_name": "Python 3 (ipykernel)",
   "language": "python",
   "name": "python3"
  },
  "language_info": {
   "codemirror_mode": {
    "name": "ipython",
    "version": 3
   },
   "file_extension": ".py",
   "mimetype": "text/x-python",
   "name": "python",
   "nbconvert_exporter": "python",
   "pygments_lexer": "ipython3",
   "version": "3.9.7"
  }
 },
 "nbformat": 4,
 "nbformat_minor": 1
}
